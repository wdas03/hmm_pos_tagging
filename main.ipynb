{
 "cells": [
  {
   "cell_type": "code",
   "execution_count": 66,
   "metadata": {},
   "outputs": [],
   "source": [
    "import pandas as pd\n",
    "from collections import defaultdict\n",
    "\n",
    "emission_probs = pd.read_csv('emission_probs.txt')\n",
    "emission_probs_np = emission_probs.to_numpy()\n",
    "\n",
    "transition_probs = pd.read_csv('transition_probs.txt')\n",
    "transition_probs_np = transition_probs.to_numpy()"
   ]
  },
  {
   "cell_type": "code",
   "execution_count": 67,
   "metadata": {},
   "outputs": [
    {
     "name": "stdout",
     "output_type": "stream",
     "text": [
      "['time' 'VBZ' 0.2]\n",
      "['flies' 'VBZ' 0.3]\n",
      "['like' 'VBZ' 0.5]\n",
      "['time' 'NNZ' 0.3]\n",
      "['flies' 'NNZ' 0.2]\n",
      "['arrow' 'NNZ' 0.5]\n",
      "['like' 'IN' 1.0]\n",
      "['an' 'DT' 1.0]\n"
     ]
    }
   ],
   "source": [
    "for a in emission_probs_np:\n",
    "    print(a)"
   ]
  },
  {
   "cell_type": "code",
   "execution_count": 70,
   "metadata": {},
   "outputs": [
    {
     "name": "stdout",
     "output_type": "stream",
     "text": [
      "0 start 1.0\n",
      "1 VBZ 0.020000000000000004\n",
      "1 NNZ 0.06\n",
      "2 VBZ 0.010799999999999999\n",
      "2 NNZ 0.0024000000000000002\n",
      "3 VBZ 0.00072\n",
      "3 IN 0.00216\n",
      "4 DT 0.0015119999999999999\n",
      "5 NNZ 0.0007559999999999999\n"
     ]
    }
   ],
   "source": [
    "# Viterbi Algo\n",
    "# sqeuence: list of tokens/words\n",
    "def viterbi(sequence, emission_probs, transition_probs):\n",
    "    emission_probs_tb = defaultdict(lambda: defaultdict(float))\n",
    "    transition_probs_tb = defaultdict(lambda: defaultdict(float))\n",
    "\n",
    "    for e in emission_probs:\n",
    "        emission_probs_tb[e[0]][e[1]] = e[2]\n",
    "    \n",
    "    for t in transition_probs:\n",
    "        transition_probs_tb[t[1]][t[0]] = t[2]\n",
    "\n",
    "    pi = defaultdict(lambda: defaultdict(float))\n",
    "    pi[0]['start'] = 1.0\n",
    "\n",
    "    N = len(sequence)\n",
    "    for k in range(1, N+1):\n",
    "        curr_word = sequence[k-1]\n",
    "\n",
    "        valid_tags = emission_probs_tb[curr_word].keys()\n",
    "        for t in valid_tags:\n",
    "            prev_tags = pi[k-1].keys()\n",
    "            for s in prev_tags:\n",
    "                pi[k][t] = max(pi[k][t], pi[k-1][s] * transition_probs_tb[t][s] * emission_probs_tb[curr_word][t])\n",
    "        \n",
    "        #print(pi)\n",
    "\n",
    "    for a in pi:\n",
    "        for b in pi[a]:\n",
    "            print(a, b, pi[a][b])\n",
    "\n",
    "sequence = \"time flies like an arrow\".split(\" \")\n",
    "viterbi(sequence, emission_probs_np, transition_probs_np)\n"
   ]
  },
  {
   "cell_type": "code",
   "execution_count": 72,
   "metadata": {},
   "outputs": [
    {
     "name": "stdout",
     "output_type": "stream",
     "text": [
      "0 start 1.0\n",
      "1 VBZ 0.020000000000000004\n",
      "1 NNZ 0.06\n",
      "2 VBZ 0.010799999999999999\n",
      "2 NNZ 0.004000000000000001\n",
      "3 VBZ 0.0012000000000000003\n",
      "3 IN 0.0029600000000000004\n",
      "4 DT 0.0025520000000000004\n",
      "5 NNZ 0.0012760000000000002\n",
      "0.0012760000000000002\n"
     ]
    },
    {
     "data": {
      "text/plain": [
       "defaultdict(<function __main__.forward.<locals>.<lambda>()>,\n",
       "            {0: defaultdict(float, {'start': 1.0}),\n",
       "             1: defaultdict(float, {'VBZ': 0.020000000000000004, 'NNZ': 0.06}),\n",
       "             2: defaultdict(float,\n",
       "                         {'VBZ': 0.010799999999999999,\n",
       "                          'NNZ': 0.004000000000000001}),\n",
       "             3: defaultdict(float,\n",
       "                         {'VBZ': 0.0012000000000000003,\n",
       "                          'IN': 0.0029600000000000004}),\n",
       "             4: defaultdict(float, {'DT': 0.0025520000000000004}),\n",
       "             5: defaultdict(float, {'NNZ': 0.0012760000000000002})})"
      ]
     },
     "execution_count": 72,
     "metadata": {},
     "output_type": "execute_result"
    }
   ],
   "source": [
    "# Forward Algo\n",
    "# sqeuence: list of tokens/words\n",
    "def forward(sequence, emission_probs, transition_probs):\n",
    "    emission_probs_tb = defaultdict(lambda: defaultdict(float))\n",
    "    transition_probs_tb = defaultdict(lambda: defaultdict(float))\n",
    "\n",
    "    for e in emission_probs:\n",
    "        emission_probs_tb[e[0]][e[1]] = e[2]\n",
    "    \n",
    "    for t in transition_probs:\n",
    "        transition_probs_tb[t[1]][t[0]] = t[2]\n",
    "\n",
    "    pi = defaultdict(lambda: defaultdict(float))\n",
    "    pi[0]['start'] = 1.0\n",
    "\n",
    "    N = len(sequence)\n",
    "    for k in range(1, N+1):\n",
    "        curr_word = sequence[k-1]\n",
    "\n",
    "        valid_tags = emission_probs_tb[curr_word].keys()\n",
    "        for t in valid_tags:\n",
    "            prev_tags = pi[k-1].keys()\n",
    "            for s in prev_tags:\n",
    "                pi[k][t] += pi[k-1][s] * transition_probs_tb[t][s] * emission_probs_tb[curr_word][t]\n",
    "        \n",
    "\n",
    "    for a in pi:\n",
    "        for b in pi[a]:\n",
    "            print(a, b, pi[a][b])\n",
    "\n",
    "    print(sum(pi[N].values()))\n",
    "\n",
    "    return pi\n",
    "\n",
    "sequence = \"time flies like an arrow\".split(\" \")\n",
    "forward(sequence, emission_probs_np, transition_probs_np)"
   ]
  },
  {
   "cell_type": "code",
   "execution_count": null,
   "metadata": {},
   "outputs": [],
   "source": [
    "def parse_transition_probs(fname):\n",
    "    pass    \n",
    "\n",
    "def parse_emission_probs(fname):\n",
    "    pass"
   ]
  }
 ],
 "metadata": {
  "kernelspec": {
   "display_name": "base",
   "language": "python",
   "name": "python3"
  },
  "language_info": {
   "codemirror_mode": {
    "name": "ipython",
    "version": 3
   },
   "file_extension": ".py",
   "mimetype": "text/x-python",
   "name": "python",
   "nbconvert_exporter": "python",
   "pygments_lexer": "ipython3",
   "version": "3.9.12"
  },
  "orig_nbformat": 4
 },
 "nbformat": 4,
 "nbformat_minor": 2
}
